{
 "cells": [
  {
   "cell_type": "code",
   "execution_count": 1,
   "metadata": {},
   "outputs": [],
   "source": [
    "import numpy as np"
   ]
  },
  {
   "cell_type": "code",
   "execution_count": 89,
   "metadata": {},
   "outputs": [],
   "source": [
    "def funcion(x, peso):\n",
    "    entrada = np.column_stack((x, np.ones(x.shape[0])))\n",
    "    mult = np.matmul(entrada, peso)\n",
    "    if mult.reshape(-1,1) > 0:\n",
    "        salida = 1.\n",
    "    else:\n",
    "        salida = 0.\n",
    "    return salida #activation(affine_transf(x, weights)).reshape(-1, 1)"
   ]
  },
  {
   "cell_type": "code",
   "execution_count": 90,
   "metadata": {},
   "outputs": [
    {
     "data": {
      "text/plain": [
       "1.0"
      ]
     },
     "execution_count": 90,
     "metadata": {},
     "output_type": "execute_result"
    }
   ],
   "source": [
    "funcion(np.array([[1., 1.]]), np.array([1., 1., 0]))"
   ]
  },
  {
   "cell_type": "markdown",
   "metadata": {},
   "source": [
    "## Función AND"
   ]
  },
  {
   "cell_type": "code",
   "execution_count": 91,
   "metadata": {},
   "outputs": [
    {
     "name": "stdout",
     "output_type": "stream",
     "text": [
      "Entradas\n",
      "[[1 1]\n",
      " [1 0]\n",
      " [0 1]\n",
      " [0 0]]\n",
      "Salidas\n",
      "1.0\n",
      "0.0\n",
      "0.0\n",
      "0.0\n"
     ]
    }
   ],
   "source": [
    "pesos = np.array([20., 20., -30.])\n",
    "print(\"Entradas\")\n",
    "print(np.array([[1,1],[1,0],[0,1],[0,0]]))\n",
    "print(\"Salidas\")\n",
    "print(funcion(np.array([[1,1]]),pesos))\n",
    "print(funcion(np.array([[1,0]]),pesos))\n",
    "print(funcion(np.array([[0,1]]),pesos))\n",
    "print(funcion(np.array([[0,0]]),pesos))"
   ]
  },
  {
   "cell_type": "markdown",
   "metadata": {},
   "source": [
    "## Función OR"
   ]
  },
  {
   "cell_type": "code",
   "execution_count": 92,
   "metadata": {},
   "outputs": [
    {
     "name": "stdout",
     "output_type": "stream",
     "text": [
      "Entradas\n",
      "[[1 1]\n",
      " [1 0]\n",
      " [0 1]\n",
      " [0 0]]\n",
      "Salidas\n",
      "1.0\n",
      "1.0\n",
      "1.0\n",
      "0.0\n"
     ]
    }
   ],
   "source": [
    "pesos = np.array([20., 20., -10.])\n",
    "print(\"Entradas\")\n",
    "print(np.array([[1,1],[1,0],[0,1],[0,0]]))\n",
    "print(\"Salidas\")\n",
    "print(funcion(np.array([[1,1]]),pesos))\n",
    "print(funcion(np.array([[1,0]]),pesos))\n",
    "print(funcion(np.array([[0,1]]),pesos))\n",
    "print(funcion(np.array([[0,0]]),pesos))"
   ]
  },
  {
   "cell_type": "markdown",
   "metadata": {},
   "source": [
    "## Función NOT"
   ]
  },
  {
   "cell_type": "code",
   "execution_count": 93,
   "metadata": {},
   "outputs": [
    {
     "name": "stdout",
     "output_type": "stream",
     "text": [
      "Entradas\n",
      "[[0]\n",
      " [1]]\n",
      "Salidas\n",
      "1.0\n",
      "0.0\n"
     ]
    }
   ],
   "source": [
    "pesos = np.array([-1., 0.5])\n",
    "print(\"Entradas\")\n",
    "print(np.array([[0],[1]]))\n",
    "print(\"Salidas\")\n",
    "print(funcion(np.array([[0]]),pesos))\n",
    "print(funcion(np.array([[1]]),pesos))"
   ]
  },
  {
   "cell_type": "markdown",
   "metadata": {},
   "source": [
    "## Función XOR"
   ]
  },
  {
   "cell_type": "code",
   "execution_count": 94,
   "metadata": {},
   "outputs": [
    {
     "name": "stdout",
     "output_type": "stream",
     "text": [
      "Entradas\n",
      "[[1 1]\n",
      " [1 0]\n",
      " [0 1]\n",
      " [0 0]]\n",
      "Salidas\n",
      "0.0\n",
      "1.0\n",
      "1.0\n",
      "0.0\n"
     ]
    }
   ],
   "source": [
    "peso_not = np.array([-1.,0.5])\n",
    "peso_and = np.array([20., 20., -30.])\n",
    "peso_or = np.array([20., 20., -10])\n",
    "\n",
    "print(\"Entradas\")\n",
    "print(np.array([[1,1],[1,0],[0,1],[0,0]]))\n",
    "print(\"Salidas\")\n",
    "X = np.array([1.,1.])\n",
    "print(funcion(np.array([[funcion(np.array([[X[0],funcion(np.array([X[1]]),peso_not)]]),peso_and),\n",
    "                         funcion(np.array([[funcion(np.array([X[0]]), peso_not),X[1]]]),peso_and)]]), peso_or))\n",
    "X = np.array([1.,0.])\n",
    "print(funcion(np.array([[funcion(np.array([[X[0],funcion(np.array([X[1]]),peso_not)]]),peso_and),\n",
    "                         funcion(np.array([[funcion(np.array([X[0]]), peso_not),X[1]]]),peso_and)]]), peso_or))\n",
    "X = np.array([0.,1.])\n",
    "print(funcion(np.array([[funcion(np.array([[X[0],funcion(np.array([X[1]]),peso_not)]]),peso_and),\n",
    "                         funcion(np.array([[funcion(np.array([X[0]]), peso_not),X[1]]]),peso_and)]]), peso_or))\n",
    "X = np.array([0.,0.])\n",
    "print(funcion(np.array([[funcion(np.array([[X[0],funcion(np.array([X[1]]),peso_not)]]),peso_and),\n",
    "                         funcion(np.array([[funcion(np.array([X[0]]), peso_not),X[1]]]),peso_and)]]), peso_or))\n"
   ]
  }
 ],
 "metadata": {
  "kernelspec": {
   "display_name": "Python 3",
   "language": "python",
   "name": "python3"
  },
  "language_info": {
   "codemirror_mode": {
    "name": "ipython",
    "version": 3
   },
   "file_extension": ".py",
   "mimetype": "text/x-python",
   "name": "python",
   "nbconvert_exporter": "python",
   "pygments_lexer": "ipython3",
   "version": "3.7.3"
  }
 },
 "nbformat": 4,
 "nbformat_minor": 2
}
