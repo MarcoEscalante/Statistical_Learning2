{
 "cells": [
  {
   "cell_type": "markdown",
   "metadata": {},
   "source": [
    "UNIVERSIDAD GALILEO\n",
    "\n",
    "Statistical Learning II\n",
    "\n",
    "Marco Vinicio Escalante Lara\n",
    "\n",
    "Carné: **19001148**\n",
    "\n",
    "\n",
    "# Forward-propagation Xor"
   ]
  },
  {
   "cell_type": "code",
   "execution_count": 1,
   "metadata": {},
   "outputs": [],
   "source": [
    "import numpy as np\n",
    "import matplotlib.pyplot as plt"
   ]
  },
  {
   "cell_type": "markdown",
   "metadata": {},
   "source": [
    "Tomando los datos del archivo de trabajo tenemos lo siguiente:"
   ]
  },
  {
   "cell_type": "code",
   "execution_count": 16,
   "metadata": {},
   "outputs": [],
   "source": [
    "def XOR(x):\n",
    "    # De la presentación tomamos las matrices de pesos de nuestro modelo\n",
    "    \n",
    "    # Primera Capa\n",
    "    w1 = np.array([[20., 20., -10.], [-20., -20., 30.]])\n",
    "    # Primera Neurona\n",
    "    # Multiplicación entre pesos de las primeras neuronas\n",
    "    z1 = np.matmul(w1, np.vstack((x, np.ones(x.shape[1]))))\n",
    "    h1 = (z1>=0).astype(np.float)\n",
    "                   \n",
    "    # Capa de salida\n",
    "    # Multiplicaciones entre pesos de la salida\n",
    "    # Capa de salida\n",
    "                   \n",
    "    w2 = np.array([[20, 20, -30]])\n",
    "    z2 = np.matmul(w2, np.vstack((h1, np.ones(h1.shape[1]))))\n",
    "    salida = (z2>=0).astype(np.float)\n",
    "                   \n",
    "    return salida, h1"
   ]
  },
  {
   "cell_type": "code",
   "execution_count": 71,
   "metadata": {},
   "outputs": [],
   "source": [
    "# Corremos nuestro programa con los datos de entrada de la XOR\n",
    "entrada = np.array([[0,0,1,1],[0,1,0,1]])\n",
    "salida, oculto = XOR(entrada)"
   ]
  },
  {
   "cell_type": "markdown",
   "metadata": {},
   "source": [
    "### Comparación de gráficas"
   ]
  },
  {
   "cell_type": "code",
   "execution_count": 78,
   "metadata": {},
   "outputs": [
    {
     "data": {
      "text/plain": [
       "Text(0.5, 1.0, 'Salida')"
      ]
     },
     "execution_count": 78,
     "metadata": {},
     "output_type": "execute_result"
    },
    {
     "data": {
      "image/png": "[encoded data removed]",
      "text/plain": [
       "<Figure size 432x288 with 3 Axes>"
      ]
     },
     "metadata": {
      "needs_background": "light"
     },
     "output_type": "display_data"
    }
   ],
   "source": [
    "# Gráfica de las neuronas de la capa intermedia y salida\n",
    "a = entrada[0, :]\n",
    "b = entrada[1, :]\n",
    "# Graficamos la primera neurona oculta\n",
    "plt.subplot(1,3,1)\n",
    "positivo = np.abs(oculto[0, :]-1) < 0.04\n",
    "negativo = np.logical_not(positivo)\n",
    "plt.scatter(a[positivo], b[positivo], marker='P', color=\"r\")\n",
    "plt.scatter(a[negativo], b[negativo], marker='o', color =\"g\")\n",
    "plt.title(\"Neurona 1\")\n",
    "# Graficamos la segunda neurona oculta\n",
    "plt.subplot(1,3,2)\n",
    "positivo = np.abs(oculto[1, :]-1) < 0.04\n",
    "negativo = np.logical_not(positivo)\n",
    "plt.scatter(a[positivo], b[positivo], marker='P', color=\"r\")\n",
    "plt.scatter(a[negativo], b[negativo], marker='o', color =\"g\")\n",
    "plt.title(\"Neurona 2\")\n",
    "# Graficamos la salida de las multiplicaciones de ambas neurona\n",
    "plt.subplot(1,3,3)\n",
    "positivo = np.abs(salida[0]-1) < 0.04\n",
    "negativo = np.logical_not(positivo)\n",
    "plt.scatter(a[positivo], b[positivo], marker='P', color=\"r\")\n",
    "plt.scatter(a[negativo], b[negativo], marker='o', color =\"g\")\n",
    "plt.title(\"Salida\")\n"
   ]
  },
  {
   "cell_type": "markdown",
   "metadata": {},
   "source": [
    "## Concluciones / Comentarios\n",
    "\n",
    "Las capas ocultas tienen un papel muy importante ya que funcionan al parecer por los resultados como filtros \"y\", abriendo los resultados positivos solo ante la configuración que acierte a los datos correctos, mientras que la neurona de salida es una esepcie de filtro \"o\" ya que combina ambas neuronas y si hay un punto positivo muestra el resultado final con el dato positivo."
   ]
  }
 ],
 "metadata": {
  "kernelspec": {
   "display_name": "Python 3",
   "language": "python",
   "name": "python3"
  },
  "language_info": {
   "codemirror_mode": {
    "name": "ipython",
    "version": 3
   },
   "file_extension": ".py",
   "mimetype": "text/x-python",
   "name": "python",
   "nbconvert_exporter": "python",
   "pygments_lexer": "ipython3",
   "version": "3.7.3"
  }
 },
 "nbformat": 4,
 "nbformat_minor": 2
}
